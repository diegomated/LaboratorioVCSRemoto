{
 "cells": [
  {
   "cell_type": "markdown",
   "metadata": {},
   "source": [
    "# Desarrollo de un análisis detallado de las revisiones de Amazon Instant Video\n",
    "### Examen Parcial de Lógica de Programación\n",
    "**Tiempo máximo para la realización del caso:** 240 minutos"
   ]
  },
  {
   "cell_type": "markdown",
   "metadata": {},
   "source": [
    "## Instrucciones\n",
    "\n",
    "1. Dar un seguimiento secuencial del siguiente caso presentado, resolviendo con detalle los ejercicios planteados.\n",
    "2. Cargar en el teams la solución en formato `.html` y el archivo de Jupyter Notebook (.ipynb). Para esto, ir a la pestaña `File > Download as > HTML (.html)`. El archivo debe tener el nombre: `Parcial2_Nombre1Apellido1.html` y asunto: *Parcial2 - Lógica de Programación*.\n",
    "3. El caso está planteado para ser resuelto en un tiempo de 240 minutos, máximo.\n",
    "\n",
    "Pueden revisarse los casos desarrollados en clase o cualquier recurso adicional que crea pertinente (servicios web, diapositivas, entre otros) para dar solución a este caso."
   ]
  },
  {
   "cell_type": "markdown",
   "metadata": {},
   "source": [
    "## Introducción al Caso de Estudio\n",
    "\n",
    "**Contexto de Negocio.** Usted es un consultor comercial con nuevos clientes que están interesados en analizar las reseñas de sus productos en Amazon (en lugar de Yelp). Quieren responder preguntas comerciales como: \"¿Cuáles son los factores más importantes que generan críticas negativas?\", \"¿Ha habido cambios importantes en la satisfacción / opiniones de los clientes a lo largo del tiempo?\", entre otros.\n",
    "\n",
    "**Problema de Negocio.** Su tarea principal es *explorar los datos dados y utilizar los resultados de su investigación para extraer componentes de texto relevantes que puedan facilitar el análisis posterior y la construcción de modelos*.\n",
    "\n",
    "**Contexto Analítico.** El conjunto de datos proporcionado tiene una gran cantidad de reseñas relacionadas con películas que se extrajeron de Amazon entre 1996 y 2014. Al explorar el conjunto de datos, se encontrarán rápidamente situaciones familiares discutidas en casos anteriores."
   ]
  },
  {
   "cell_type": "markdown",
   "metadata": {},
   "source": [
    "## Cargando los datos de estudio\n",
    "\n",
    "El conjunto de datos a utilizar contiene alrededor de 36,795 reseñas de videos de Amazon Instant Video, todas obtenidas del sitio web: http://jmcauley.ucsd.edu/data/amazon/. Ejecute la siguiente instrucción en la consola del sistema operativo, bajo el entorno virtual de *LogPro2020* :\n",
    "\n",
    "`$ pip install pandas`"
   ]
  },
  {
   "cell_type": "markdown",
   "metadata": {},
   "source": [
    "En este caso encontrarán algunas celdas de código que contienen los componentes algorítmicos básicos para la lectura de archivos y otras operaciones de ayuda. Estas líneas de lectura permiten obtener las revisiones en una estructura de datos:"
   ]
  },
  {
   "cell_type": "code",
   "execution_count": null,
   "metadata": {},
   "outputs": [],
   "source": [
    "import pandas as pd\n",
    "import numpy as np\n",
    "\n",
    "AIV = pd.read_csv('Data_Parcial2.csv')\n",
    "AIV = {group[0]: np.array([np.array(group[1][column]) for column in list(group[1].drop('Year', axis=1).columns)]) for group in AIV.groupby('Year')}\n",
    "AIV"
   ]
  },
  {
   "cell_type": "markdown",
   "metadata": {},
   "source": [
    "Notamos que `AIV_original` es extremadamente largo, así que estamos comprimiendo la celda de salida para que se muestre una parte con fines de análisis. De aquí en adelante trabajaremos con la variable `AIV` completa para analizar las reseñas. Trabajaremos **únicamente** con las funciones `array()`, `len()`, `append()`, `keys()`, `values()`, `copy()`, el acceso por llaves a diccionarios y el acceso por índices y rangos positivos y negativos a las listas y arreglos de `Numpy`. Es permitido la definición de funciones propias."
   ]
  },
  {
   "cell_type": "markdown",
   "metadata": {},
   "source": [
    "La variable `AIV` es un diccionario de datos, cuyas llaves están asociadas con el año en el cual fueron publicados los comentarios. Como valores, se encuentran arreglos bidimensionales de `Numpy` que tienen el siguiente contenido:\n",
    "1. Un arreglo unidimensional con el **ID de cada usuario** que ha publicado el comentario. El ID corresponde a una cadena aleatoria con una cantidad de caracteres homogénea.\n",
    "2. Un arreglo unidimensional con el **conjunto de comentarios**. La longitud de cada cada comentario es variable. Cada comentario incluye caracteres alfanuméricos y caracteres especiales.\n",
    "3. Un arreglo unidimensional con la **puntuación que le dan los usuarios a los productos** de Amazon. La puntuación está en el intervalo [1.0, 5.0].\n",
    "4. Un arreglo unidimensional con el **día de la semana en el cual se publican los comentarios**. El día de la semana está escrito en texto y corresponde a los siete días de la semana, de lunes a domingo.\n",
    "5. Un arreglo unidimensional con el **día del mes en el cual se publican los comentarios**. Los días del mes se encuentran escritos como número.\n",
    "6. Un arreglo unidimensional con el **número del mes en el cual se publican los comentarios**.\n",
    "\n",
    "Cada uno de los datos almacenados en los arreglos unidimensionales corresponde entre sí. Es decir, el dato en la posición 0 del primer arreglo está asociado con el dato 0 del segundo arreglo, con el dato 0 del tercer arreglo, etc."
   ]
  },
  {
   "cell_type": "markdown",
   "metadata": {},
   "source": [
    "A nivel general, la estructura es la siguiente:\n",
    "\n",
    "```\n",
    "{Year1:\n",
    "    array[\n",
    "        [userID1, userID2, ..., userIDn],\n",
    "        [review1, review2, ..., reviewn],\n",
    "        [stars1, stars2, ..., starsn],\n",
    "        [DayName1, DayName2, ..., DayNamen],\n",
    "        [DayNumber1, DayNumber2, ..., DayNumbern],\n",
    "        [MonthNumber1, MonthNumber2, ..., MonthNumbern]\n",
    "    ],\n",
    " Year2: \n",
    "    array[\n",
    "        [userID1, userID2, ..., userIDn],\n",
    "        [review1, review2, ..., reviewn],\n",
    "        [stars1, stars2, ..., starsn],\n",
    "        [DayName1, DayName2, ..., DayNamen],\n",
    "        [DayNumber1, DayNumber2, ..., DayNumbern],\n",
    "        [MonthNumber1, MonthNumber2, ..., MonthNumbern]\n",
    "    ],\n",
    "  ...\n",
    "  YearK:\n",
    "     array[\n",
    "        [userID1, userID2, ..., userIDn],\n",
    "        [review1, review2, ..., reviewn],\n",
    "        [stars1, stars2, ..., starsn],\n",
    "        [DayName1, DayName2, ..., DayNamen],\n",
    "        [DayNumber1, DayNumber2, ..., DayNumbern],\n",
    "        [MonthNumber1, MonthNumber2, ..., MonthNumbern]\n",
    "    ]\n",
    "} \n",
    "```"
   ]
  },
  {
   "cell_type": "markdown",
   "metadata": {},
   "source": [
    "### (Valor 0.4) Ejercicio 1:\n",
    "\n",
    "Vamos a responder algunas preguntas básicas:\n",
    "1. **(Valor 0.1)** ¿Todos los años almacenados en el diccionario presentan una continuidad y existe algún año(s) en el que no hayan almacenados datos? Para esto puede verificar que todos los años almacenados en el diccionario estén presentes como llaves.\n",
    "2. **(Valor 0.3)** Verifique que la cantidad total de comentarios almacenados sea de 36795."
   ]
  },
  {
   "cell_type": "code",
   "execution_count": 7,
   "metadata": {},
   "outputs": [],
   "source": [
    "# Respuesta 1\n"
   ]
  },
  {
   "cell_type": "code",
   "execution_count": 1,
   "metadata": {},
   "outputs": [],
   "source": [
    "# Respuesta 2"
   ]
  },
  {
   "cell_type": "markdown",
   "metadata": {},
   "source": [
    "### (Valor 0.3) Ejercicio 2:\n",
    "\n",
    "Preste atención al siguiente código ejecutado y responda la pregunta planteada en seguida:"
   ]
  },
  {
   "cell_type": "code",
   "execution_count": 4,
   "metadata": {
    "scrolled": true
   },
   "outputs": [
    {
     "data": {
      "text/plain": [
       "{2006: 16,\n",
       " 2007: 118,\n",
       " 2008: 231,\n",
       " 2009: 362,\n",
       " 2010: 376,\n",
       " 2011: 724,\n",
       " 2012: 2724,\n",
       " 2013: 15796,\n",
       " 2014: 16448}"
      ]
     },
     "execution_count": 4,
     "metadata": {},
     "output_type": "execute_result"
    }
   ],
   "source": [
    "{i:len(AIV[i][0]) for i in AIV}"
   ]
  },
  {
   "cell_type": "markdown",
   "metadata": {},
   "source": [
    "El resultado presentado correponde a:\n",
    "\n",
    "**(a)** El promedio de comentarios por año almacenados en un diccionario de salida.\n",
    "\n",
    "**(b)** La desviación estandar de comentarios por año almacenadas en una lista de salida.\n",
    "\n",
    "**(c)** La variación de comentarios almacenados por año, ubicadas en una lista de salida.\n",
    "\n",
    "**(d)** La cantidad de comentarios totales almacenados por año, ubicados en un diccionario de salida"
   ]
  },
  {
   "cell_type": "markdown",
   "metadata": {},
   "source": [
    "**Respuesta:**\n",
    "\n",
    "**Justificación:**"
   ]
  },
  {
   "cell_type": "markdown",
   "metadata": {},
   "source": [
    "### (Valor 0.5) Ejercicio 3:\n",
    "\n",
    "Calcule y exprese el incremento en la cantidad de comentarios anuales en porcentaje con dos cifras significativas, de tal forma que se obtenga la salida:\n",
    "\n",
    "```\n",
    "2006-2007: 637.50%\n",
    "2007-2008: 95.76%\n",
    "...\n",
    "2013-2014: 4.13%\n",
    "```"
   ]
  },
  {
   "cell_type": "code",
   "execution_count": 3,
   "metadata": {},
   "outputs": [],
   "source": [
    "# Respuesta"
   ]
  },
  {
   "cell_type": "markdown",
   "metadata": {},
   "source": [
    "### (Valor 0.5) Ejercicio 4:\n",
    "\n",
    "Uno de los programadores experto de la empresa realiza la siguiente instrucción sobre el conjunto de datos entregados:\n",
    "\n",
    "```salida = {i:sum([len(c) for c in AIV[i][1]]) for i in AIV}```\n",
    "\n",
    "Sin embargo, luego de finalizar su contrato, el programador abandona su cargo sin documentar adecuadamente el código generado, lo que obliga a que ud desarrolle el algoritmo sin utilizar `Dictionary Comprehension` para que el equipo de desarrollo logre comprenderlo adecuadamente. Explique cuál es el objetivo del algoritmo, analizando el resultado obtenido."
   ]
  },
  {
   "cell_type": "code",
   "execution_count": 6,
   "metadata": {},
   "outputs": [],
   "source": [
    "# Respuesta\n"
   ]
  },
  {
   "cell_type": "markdown",
   "metadata": {},
   "source": [
    "**Objetivo del algoritmo:**"
   ]
  },
  {
   "cell_type": "markdown",
   "metadata": {},
   "source": [
    "**Análisis:**"
   ]
  },
  {
   "cell_type": "markdown",
   "metadata": {},
   "source": [
    "### (Valor 0.6) Ejercicio 5:\n",
    "\n",
    "Un programador de su unidad de trabajo quiere calcular la cantidad de usuarios con IDs diferentes que han comentado sobre AWS. Para eso, desarrolla el siguiente código:\n",
    "\n",
    "```\n",
    "users = []\n",
    "for key in AIV:\n",
    "    for user in __________:\n",
    "        if user ___ ___ users:\n",
    "            users.append(________)\n",
    "print('Cantidad total de usuarios no repetidos: ' + ____(____(users)))\n",
    "```\n",
    "\n",
    "Sin embargo, el código se encuentra incompleto, así que le ha pedido a ud completarlo. Complete el código en el espacio correspondiente y muetre la salida del mismo."
   ]
  },
  {
   "cell_type": "code",
   "execution_count": 5,
   "metadata": {},
   "outputs": [],
   "source": [
    "# Respuesta"
   ]
  },
  {
   "cell_type": "markdown",
   "metadata": {},
   "source": [
    "### (Valor 0.6) Ejercicio 6:\n",
    "\n",
    "Encuentre la cantidad promedio de comentarios por usuario (usuarios distintos) para cada año, redondeando a dos cifras, de tal forma que obtenga una salida como la siguiente:\n",
    "```\n",
    "{2006: 1.23,\n",
    " 2007: 1.79,\n",
    " ...\n",
    " 2014: 3.90}\n",
    "```"
   ]
  },
  {
   "cell_type": "code",
   "execution_count": 6,
   "metadata": {
    "scrolled": true
   },
   "outputs": [],
   "source": [
    "# Respuesta"
   ]
  },
  {
   "cell_type": "markdown",
   "metadata": {},
   "source": [
    "### (Valor 0.6) Ejercicio 7:\n",
    "\n",
    "Encuentre la cantidad total de comentarios que son puntuados con cada estrella. Debe obtener una salida con la siguiente estructura:\n",
    "```\n",
    "1.0: cantidad comentarios totales\n",
    "2.0: cantidad comentarios totales\n",
    " ...\n",
    "5.0: cantidad comentarios totales\n",
    "```"
   ]
  },
  {
   "cell_type": "code",
   "execution_count": 7,
   "metadata": {},
   "outputs": [],
   "source": [
    "# Respuesta"
   ]
  },
  {
   "cell_type": "markdown",
   "metadata": {},
   "source": [
    "### (Valor 0.5) Ejercicio 8:\n",
    "\n",
    "Ordene de mayor a menor la cantidad de comentarios por día de la semana (de lunes a domingo) y analice los resultados. Debe obtener un resultado con la siguiente estructura:\n",
    "```\n",
    "Nombre del día Mayor: cantidad comentarios totales\n",
    "Nombre del siguiente día: cantidad comentarios totales\n",
    " ...\n",
    "Nombre del día Menor: cantidad comentarios totales\n",
    "```"
   ]
  },
  {
   "cell_type": "code",
   "execution_count": 8,
   "metadata": {
    "scrolled": true
   },
   "outputs": [],
   "source": [
    "# Respuesta"
   ]
  },
  {
   "cell_type": "markdown",
   "metadata": {},
   "source": [
    "**Análisis:**"
   ]
  },
  {
   "cell_type": "markdown",
   "metadata": {},
   "source": [
    "### (Valor 0.5) Ejercicio 9:\n",
    "\n",
    "Ordene de mayor a menor la cantidad de comentarios por mes (de enero a diciembre) y analice los resultados. Debe obtener un resultado con la siguiente estructura:\n",
    "```\n",
    "Nombre del mes Mayor: cantidad comentarios totales\n",
    "Nombre del siguiente mes: cantidad comentarios totales\n",
    " ...\n",
    "Nombre del mes Menor: cantidad comentarios totales\n",
    "```"
   ]
  },
  {
   "cell_type": "code",
   "execution_count": 9,
   "metadata": {
    "scrolled": true
   },
   "outputs": [],
   "source": [
    "# Respuesta"
   ]
  },
  {
   "cell_type": "markdown",
   "metadata": {},
   "source": [
    "**Análisis:**"
   ]
  },
  {
   "cell_type": "markdown",
   "metadata": {},
   "source": [
    "## Conclusiones"
   ]
  },
  {
   "cell_type": "markdown",
   "metadata": {},
   "source": [
    "**(Valor 0.3)** Este es un espacio para que escriba las conclusiones del análisis ejecutado en los ejercicios del Parcial Final."
   ]
  },
  {
   "cell_type": "markdown",
   "metadata": {},
   "source": [
    "*(Escriba aquí sus conclusiones)*"
   ]
  },
  {
   "cell_type": "markdown",
   "metadata": {},
   "source": [
    "## Aprendizaje del curso"
   ]
  },
  {
   "cell_type": "markdown",
   "metadata": {},
   "source": [
    "**(Valor 0.2)** Este es un espacio para que escriba una realimentación sobre la materia de Lógica de Programación, en donde mencione lecciones aprendidas, beneficios para su crecimiento personal y oportunidades de mejora en el contenido de la asignatura y en la metodología de enseñanza. Los comentarios son extremadamente importantes para la mejora del proceso docente y el ejercicio profesional. Su honestidad es fundamental para el crecimiento de la asignatura."
   ]
  },
  {
   "cell_type": "markdown",
   "metadata": {},
   "source": [
    "*(Escriba aquí sus comentarios)*"
   ]
  }
 ],
 "metadata": {
  "kernelspec": {
   "display_name": "Python 3",
   "language": "python",
   "name": "python3"
  },
  "language_info": {
   "codemirror_mode": {
    "name": "ipython",
    "version": 3
   },
   "file_extension": ".py",
   "mimetype": "text/x-python",
   "name": "python",
   "nbconvert_exporter": "python",
   "pygments_lexer": "ipython3",
   "version": "3.7.6"
  }
 },
 "nbformat": 4,
 "nbformat_minor": 2
}
